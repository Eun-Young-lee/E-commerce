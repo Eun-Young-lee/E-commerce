{
 "cells": [
  {
   "cell_type": "markdown",
   "id": "6ffc1437",
   "metadata": {},
   "source": [
    "## Import necessary libraries"
   ]
  },
  {
   "cell_type": "code",
   "execution_count": 1,
   "id": "7e7f933f",
   "metadata": {},
   "outputs": [],
   "source": [
    "import pandas as pd\n",
    "import numpy as np\n",
    "import matplotlib.pyplot as plt\n",
    "import seaborn as sns"
   ]
  },
  {
   "cell_type": "markdown",
   "id": "2fb9cc7e",
   "metadata": {},
   "source": [
    "## Load the dataset"
   ]
  },
  {
   "cell_type": "code",
   "execution_count": 2,
   "id": "b60997cb",
   "metadata": {
    "scrolled": true
   },
   "outputs": [
    {
     "data": {
      "text/html": [
       "<div>\n",
       "<style scoped>\n",
       "    .dataframe tbody tr th:only-of-type {\n",
       "        vertical-align: middle;\n",
       "    }\n",
       "\n",
       "    .dataframe tbody tr th {\n",
       "        vertical-align: top;\n",
       "    }\n",
       "\n",
       "    .dataframe thead th {\n",
       "        text-align: right;\n",
       "    }\n",
       "</style>\n",
       "<table border=\"1\" class=\"dataframe\">\n",
       "  <thead>\n",
       "    <tr style=\"text-align: right;\">\n",
       "      <th></th>\n",
       "      <th>InvoiceNo</th>\n",
       "      <th>StockCode</th>\n",
       "      <th>Description</th>\n",
       "      <th>Quantity</th>\n",
       "      <th>InvoiceDate</th>\n",
       "      <th>UnitPrice</th>\n",
       "      <th>CustomerID</th>\n",
       "      <th>Country</th>\n",
       "    </tr>\n",
       "  </thead>\n",
       "  <tbody>\n",
       "    <tr>\n",
       "      <th>0</th>\n",
       "      <td>536365</td>\n",
       "      <td>85123A</td>\n",
       "      <td>WHITE HANGING HEART T-LIGHT HOLDER</td>\n",
       "      <td>6</td>\n",
       "      <td>12/01/2010 08:26</td>\n",
       "      <td>2.55</td>\n",
       "      <td>17850.0</td>\n",
       "      <td>United Kingdom</td>\n",
       "    </tr>\n",
       "    <tr>\n",
       "      <th>1</th>\n",
       "      <td>536365</td>\n",
       "      <td>71053</td>\n",
       "      <td>WHITE METAL LANTERN</td>\n",
       "      <td>6</td>\n",
       "      <td>12/01/2010 08:26</td>\n",
       "      <td>3.39</td>\n",
       "      <td>17850.0</td>\n",
       "      <td>United Kingdom</td>\n",
       "    </tr>\n",
       "    <tr>\n",
       "      <th>2</th>\n",
       "      <td>536365</td>\n",
       "      <td>84406B</td>\n",
       "      <td>CREAM CUPID HEARTS COAT HANGER</td>\n",
       "      <td>8</td>\n",
       "      <td>12/01/2010 08:26</td>\n",
       "      <td>2.75</td>\n",
       "      <td>17850.0</td>\n",
       "      <td>United Kingdom</td>\n",
       "    </tr>\n",
       "    <tr>\n",
       "      <th>3</th>\n",
       "      <td>536365</td>\n",
       "      <td>84029G</td>\n",
       "      <td>KNITTED UNION FLAG HOT WATER BOTTLE</td>\n",
       "      <td>6</td>\n",
       "      <td>12/01/2010 08:26</td>\n",
       "      <td>3.39</td>\n",
       "      <td>17850.0</td>\n",
       "      <td>United Kingdom</td>\n",
       "    </tr>\n",
       "    <tr>\n",
       "      <th>4</th>\n",
       "      <td>536365</td>\n",
       "      <td>84029E</td>\n",
       "      <td>RED WOOLLY HOTTIE WHITE HEART.</td>\n",
       "      <td>6</td>\n",
       "      <td>12/01/2010 08:26</td>\n",
       "      <td>3.39</td>\n",
       "      <td>17850.0</td>\n",
       "      <td>United Kingdom</td>\n",
       "    </tr>\n",
       "  </tbody>\n",
       "</table>\n",
       "</div>"
      ],
      "text/plain": [
       "  InvoiceNo StockCode                          Description  Quantity  \\\n",
       "0    536365    85123A   WHITE HANGING HEART T-LIGHT HOLDER         6   \n",
       "1    536365     71053                  WHITE METAL LANTERN         6   \n",
       "2    536365    84406B       CREAM CUPID HEARTS COAT HANGER         8   \n",
       "3    536365    84029G  KNITTED UNION FLAG HOT WATER BOTTLE         6   \n",
       "4    536365    84029E       RED WOOLLY HOTTIE WHITE HEART.         6   \n",
       "\n",
       "        InvoiceDate  UnitPrice  CustomerID         Country  \n",
       "0  12/01/2010 08:26       2.55     17850.0  United Kingdom  \n",
       "1  12/01/2010 08:26       3.39     17850.0  United Kingdom  \n",
       "2  12/01/2010 08:26       2.75     17850.0  United Kingdom  \n",
       "3  12/01/2010 08:26       3.39     17850.0  United Kingdom  \n",
       "4  12/01/2010 08:26       3.39     17850.0  United Kingdom  "
      ]
     },
     "execution_count": 2,
     "metadata": {},
     "output_type": "execute_result"
    }
   ],
   "source": [
    "df = pd.read_csv(\"E_Commerce_data.csv\")\n",
    "df.head()"
   ]
  },
  {
   "cell_type": "code",
   "execution_count": 3,
   "id": "cd329eb8",
   "metadata": {
    "scrolled": true
   },
   "outputs": [
    {
     "data": {
      "text/plain": [
       "(541909, 8)"
      ]
     },
     "execution_count": 3,
     "metadata": {},
     "output_type": "execute_result"
    }
   ],
   "source": [
    "df.shape"
   ]
  },
  {
   "cell_type": "code",
   "execution_count": 4,
   "id": "bf12e921",
   "metadata": {},
   "outputs": [
    {
     "name": "stdout",
     "output_type": "stream",
     "text": [
      "<class 'pandas.core.frame.DataFrame'>\n",
      "RangeIndex: 541909 entries, 0 to 541908\n",
      "Data columns (total 8 columns):\n",
      " #   Column       Non-Null Count   Dtype  \n",
      "---  ------       --------------   -----  \n",
      " 0   InvoiceNo    541909 non-null  object \n",
      " 1   StockCode    541909 non-null  object \n",
      " 2   Description  540455 non-null  object \n",
      " 3   Quantity     541909 non-null  int64  \n",
      " 4   InvoiceDate  541909 non-null  object \n",
      " 5   UnitPrice    541909 non-null  float64\n",
      " 6   CustomerID   406829 non-null  float64\n",
      " 7   Country      541909 non-null  object \n",
      "dtypes: float64(2), int64(1), object(5)\n",
      "memory usage: 33.1+ MB\n"
     ]
    }
   ],
   "source": [
    "df.info()"
   ]
  },
  {
   "cell_type": "code",
   "execution_count": 5,
   "id": "9f53703a",
   "metadata": {},
   "outputs": [
    {
     "data": {
      "text/html": [
       "<div>\n",
       "<style scoped>\n",
       "    .dataframe tbody tr th:only-of-type {\n",
       "        vertical-align: middle;\n",
       "    }\n",
       "\n",
       "    .dataframe tbody tr th {\n",
       "        vertical-align: top;\n",
       "    }\n",
       "\n",
       "    .dataframe thead th {\n",
       "        text-align: right;\n",
       "    }\n",
       "</style>\n",
       "<table border=\"1\" class=\"dataframe\">\n",
       "  <thead>\n",
       "    <tr style=\"text-align: right;\">\n",
       "      <th></th>\n",
       "      <th>Quantity</th>\n",
       "      <th>UnitPrice</th>\n",
       "      <th>CustomerID</th>\n",
       "    </tr>\n",
       "  </thead>\n",
       "  <tbody>\n",
       "    <tr>\n",
       "      <th>count</th>\n",
       "      <td>541909.000000</td>\n",
       "      <td>541909.000000</td>\n",
       "      <td>406829.000000</td>\n",
       "    </tr>\n",
       "    <tr>\n",
       "      <th>mean</th>\n",
       "      <td>9.552250</td>\n",
       "      <td>4.611114</td>\n",
       "      <td>15287.690570</td>\n",
       "    </tr>\n",
       "    <tr>\n",
       "      <th>std</th>\n",
       "      <td>218.081158</td>\n",
       "      <td>96.759853</td>\n",
       "      <td>1713.600303</td>\n",
       "    </tr>\n",
       "    <tr>\n",
       "      <th>min</th>\n",
       "      <td>-80995.000000</td>\n",
       "      <td>-11062.060000</td>\n",
       "      <td>12346.000000</td>\n",
       "    </tr>\n",
       "    <tr>\n",
       "      <th>25%</th>\n",
       "      <td>1.000000</td>\n",
       "      <td>1.250000</td>\n",
       "      <td>13953.000000</td>\n",
       "    </tr>\n",
       "    <tr>\n",
       "      <th>50%</th>\n",
       "      <td>3.000000</td>\n",
       "      <td>2.080000</td>\n",
       "      <td>15152.000000</td>\n",
       "    </tr>\n",
       "    <tr>\n",
       "      <th>75%</th>\n",
       "      <td>10.000000</td>\n",
       "      <td>4.130000</td>\n",
       "      <td>16791.000000</td>\n",
       "    </tr>\n",
       "    <tr>\n",
       "      <th>max</th>\n",
       "      <td>80995.000000</td>\n",
       "      <td>38970.000000</td>\n",
       "      <td>18287.000000</td>\n",
       "    </tr>\n",
       "  </tbody>\n",
       "</table>\n",
       "</div>"
      ],
      "text/plain": [
       "            Quantity      UnitPrice     CustomerID\n",
       "count  541909.000000  541909.000000  406829.000000\n",
       "mean        9.552250       4.611114   15287.690570\n",
       "std       218.081158      96.759853    1713.600303\n",
       "min    -80995.000000  -11062.060000   12346.000000\n",
       "25%         1.000000       1.250000   13953.000000\n",
       "50%         3.000000       2.080000   15152.000000\n",
       "75%        10.000000       4.130000   16791.000000\n",
       "max     80995.000000   38970.000000   18287.000000"
      ]
     },
     "execution_count": 5,
     "metadata": {},
     "output_type": "execute_result"
    }
   ],
   "source": [
    "df.describe()"
   ]
  },
  {
   "cell_type": "markdown",
   "id": "c9c7f20c",
   "metadata": {},
   "source": [
    "### Clean Dataset"
   ]
  },
  {
   "cell_type": "code",
   "execution_count": 6,
   "id": "2b4b3b97",
   "metadata": {},
   "outputs": [
    {
     "data": {
      "text/plain": [
       "InvoiceNo           0\n",
       "StockCode           0\n",
       "Description      1454\n",
       "Quantity            0\n",
       "InvoiceDate         0\n",
       "UnitPrice           0\n",
       "CustomerID     135080\n",
       "Country             0\n",
       "dtype: int64"
      ]
     },
     "execution_count": 6,
     "metadata": {},
     "output_type": "execute_result"
    }
   ],
   "source": [
    "df.isna().sum()"
   ]
  },
  {
   "cell_type": "code",
   "execution_count": 7,
   "id": "f35f2211",
   "metadata": {
    "scrolled": true
   },
   "outputs": [
    {
     "data": {
      "text/plain": [
       "InvoiceNo       0.000000\n",
       "StockCode       0.000000\n",
       "Description     0.268311\n",
       "Quantity        0.000000\n",
       "InvoiceDate     0.000000\n",
       "UnitPrice       0.000000\n",
       "CustomerID     24.926694\n",
       "Country         0.000000\n",
       "dtype: float64"
      ]
     },
     "execution_count": 7,
     "metadata": {},
     "output_type": "execute_result"
    }
   ],
   "source": [
    "# missing data percentage\n",
    "df.isna().sum()/df.shape[0]*100"
   ]
  },
  {
   "cell_type": "code",
   "execution_count": 8,
   "id": "370ac261",
   "metadata": {},
   "outputs": [
    {
     "data": {
      "text/plain": [
       "InvoiceNo      0\n",
       "StockCode      0\n",
       "Description    0\n",
       "Quantity       0\n",
       "InvoiceDate    0\n",
       "UnitPrice      0\n",
       "CustomerID     0\n",
       "Country        0\n",
       "dtype: int64"
      ]
     },
     "execution_count": 8,
     "metadata": {},
     "output_type": "execute_result"
    }
   ],
   "source": [
    "df = df.dropna()\n",
    "df.isnull().sum()"
   ]
  },
  {
   "cell_type": "markdown",
   "id": "30bad0fd",
   "metadata": {},
   "source": [
    "Filter out cancelled transaction. In the dataset description ,there are some cancelled transactions that is presented by invoice number starting with letter 'C'."
   ]
  },
  {
   "cell_type": "code",
   "execution_count": 9,
   "id": "a87b85dc",
   "metadata": {},
   "outputs": [
    {
     "data": {
      "text/plain": [
       "(397924, 8)"
      ]
     },
     "execution_count": 9,
     "metadata": {},
     "output_type": "execute_result"
    }
   ],
   "source": [
    "df = df[~df.InvoiceNo.str.contains('C')]\n",
    "df.shape"
   ]
  },
  {
   "cell_type": "markdown",
   "id": "d8c03bdf",
   "metadata": {},
   "source": [
    "#### Remove negative values in the 'quantity' and 'UnitPrice' columns to simplify the analysis"
   ]
  },
  {
   "cell_type": "code",
   "execution_count": 10,
   "id": "98b42525",
   "metadata": {
    "scrolled": true
   },
   "outputs": [
    {
     "data": {
      "text/html": [
       "<div>\n",
       "<style scoped>\n",
       "    .dataframe tbody tr th:only-of-type {\n",
       "        vertical-align: middle;\n",
       "    }\n",
       "\n",
       "    .dataframe tbody tr th {\n",
       "        vertical-align: top;\n",
       "    }\n",
       "\n",
       "    .dataframe thead th {\n",
       "        text-align: right;\n",
       "    }\n",
       "</style>\n",
       "<table border=\"1\" class=\"dataframe\">\n",
       "  <thead>\n",
       "    <tr style=\"text-align: right;\">\n",
       "      <th></th>\n",
       "      <th>Quantity</th>\n",
       "      <th>UnitPrice</th>\n",
       "      <th>CustomerID</th>\n",
       "    </tr>\n",
       "  </thead>\n",
       "  <tbody>\n",
       "    <tr>\n",
       "      <th>count</th>\n",
       "      <td>397924.000000</td>\n",
       "      <td>397924.000000</td>\n",
       "      <td>397924.000000</td>\n",
       "    </tr>\n",
       "    <tr>\n",
       "      <th>mean</th>\n",
       "      <td>13.021823</td>\n",
       "      <td>3.116174</td>\n",
       "      <td>15294.315171</td>\n",
       "    </tr>\n",
       "    <tr>\n",
       "      <th>std</th>\n",
       "      <td>180.420210</td>\n",
       "      <td>22.096788</td>\n",
       "      <td>1713.169877</td>\n",
       "    </tr>\n",
       "    <tr>\n",
       "      <th>min</th>\n",
       "      <td>1.000000</td>\n",
       "      <td>0.000000</td>\n",
       "      <td>12346.000000</td>\n",
       "    </tr>\n",
       "    <tr>\n",
       "      <th>25%</th>\n",
       "      <td>2.000000</td>\n",
       "      <td>1.250000</td>\n",
       "      <td>13969.000000</td>\n",
       "    </tr>\n",
       "    <tr>\n",
       "      <th>50%</th>\n",
       "      <td>6.000000</td>\n",
       "      <td>1.950000</td>\n",
       "      <td>15159.000000</td>\n",
       "    </tr>\n",
       "    <tr>\n",
       "      <th>75%</th>\n",
       "      <td>12.000000</td>\n",
       "      <td>3.750000</td>\n",
       "      <td>16795.000000</td>\n",
       "    </tr>\n",
       "    <tr>\n",
       "      <th>max</th>\n",
       "      <td>80995.000000</td>\n",
       "      <td>8142.750000</td>\n",
       "      <td>18287.000000</td>\n",
       "    </tr>\n",
       "  </tbody>\n",
       "</table>\n",
       "</div>"
      ],
      "text/plain": [
       "            Quantity      UnitPrice     CustomerID\n",
       "count  397924.000000  397924.000000  397924.000000\n",
       "mean       13.021823       3.116174   15294.315171\n",
       "std       180.420210      22.096788    1713.169877\n",
       "min         1.000000       0.000000   12346.000000\n",
       "25%         2.000000       1.250000   13969.000000\n",
       "50%         6.000000       1.950000   15159.000000\n",
       "75%        12.000000       3.750000   16795.000000\n",
       "max     80995.000000    8142.750000   18287.000000"
      ]
     },
     "execution_count": 10,
     "metadata": {},
     "output_type": "execute_result"
    }
   ],
   "source": [
    "df = df[df['Quantity'] > 0]\n",
    "df.describe()"
   ]
  },
  {
   "cell_type": "code",
   "execution_count": 11,
   "id": "049611a4",
   "metadata": {},
   "outputs": [
    {
     "data": {
      "text/html": [
       "<div>\n",
       "<style scoped>\n",
       "    .dataframe tbody tr th:only-of-type {\n",
       "        vertical-align: middle;\n",
       "    }\n",
       "\n",
       "    .dataframe tbody tr th {\n",
       "        vertical-align: top;\n",
       "    }\n",
       "\n",
       "    .dataframe thead th {\n",
       "        text-align: right;\n",
       "    }\n",
       "</style>\n",
       "<table border=\"1\" class=\"dataframe\">\n",
       "  <thead>\n",
       "    <tr style=\"text-align: right;\">\n",
       "      <th></th>\n",
       "      <th>Quantity</th>\n",
       "      <th>UnitPrice</th>\n",
       "      <th>CustomerID</th>\n",
       "    </tr>\n",
       "  </thead>\n",
       "  <tbody>\n",
       "    <tr>\n",
       "      <th>count</th>\n",
       "      <td>397884.000000</td>\n",
       "      <td>397884.000000</td>\n",
       "      <td>397884.000000</td>\n",
       "    </tr>\n",
       "    <tr>\n",
       "      <th>mean</th>\n",
       "      <td>12.988238</td>\n",
       "      <td>3.116488</td>\n",
       "      <td>15294.423453</td>\n",
       "    </tr>\n",
       "    <tr>\n",
       "      <th>std</th>\n",
       "      <td>179.331775</td>\n",
       "      <td>22.097877</td>\n",
       "      <td>1713.141560</td>\n",
       "    </tr>\n",
       "    <tr>\n",
       "      <th>min</th>\n",
       "      <td>1.000000</td>\n",
       "      <td>0.001000</td>\n",
       "      <td>12346.000000</td>\n",
       "    </tr>\n",
       "    <tr>\n",
       "      <th>25%</th>\n",
       "      <td>2.000000</td>\n",
       "      <td>1.250000</td>\n",
       "      <td>13969.000000</td>\n",
       "    </tr>\n",
       "    <tr>\n",
       "      <th>50%</th>\n",
       "      <td>6.000000</td>\n",
       "      <td>1.950000</td>\n",
       "      <td>15159.000000</td>\n",
       "    </tr>\n",
       "    <tr>\n",
       "      <th>75%</th>\n",
       "      <td>12.000000</td>\n",
       "      <td>3.750000</td>\n",
       "      <td>16795.000000</td>\n",
       "    </tr>\n",
       "    <tr>\n",
       "      <th>max</th>\n",
       "      <td>80995.000000</td>\n",
       "      <td>8142.750000</td>\n",
       "      <td>18287.000000</td>\n",
       "    </tr>\n",
       "  </tbody>\n",
       "</table>\n",
       "</div>"
      ],
      "text/plain": [
       "            Quantity      UnitPrice     CustomerID\n",
       "count  397884.000000  397884.000000  397884.000000\n",
       "mean       12.988238       3.116488   15294.423453\n",
       "std       179.331775      22.097877    1713.141560\n",
       "min         1.000000       0.001000   12346.000000\n",
       "25%         2.000000       1.250000   13969.000000\n",
       "50%         6.000000       1.950000   15159.000000\n",
       "75%        12.000000       3.750000   16795.000000\n",
       "max     80995.000000    8142.750000   18287.000000"
      ]
     },
     "execution_count": 11,
     "metadata": {},
     "output_type": "execute_result"
    }
   ],
   "source": [
    "df = df[df['UnitPrice'] > 0]\n",
    "df.describe()"
   ]
  },
  {
   "cell_type": "markdown",
   "id": "52358661",
   "metadata": {},
   "source": [
    "### EDA"
   ]
  },
  {
   "cell_type": "markdown",
   "id": "26100dbc",
   "metadata": {},
   "source": [
    "Convert 'InvoiceDate' to date time and those values become the row index."
   ]
  },
  {
   "cell_type": "code",
   "execution_count": 12,
   "id": "0a29d4a8",
   "metadata": {},
   "outputs": [],
   "source": [
    "df['InvoiceDate'] = pd.to_datetime(df['InvoiceDate'])"
   ]
  },
  {
   "cell_type": "markdown",
   "id": "fb3ed804",
   "metadata": {},
   "source": [
    "Create a new column 'Total_Sales' "
   ]
  },
  {
   "cell_type": "code",
   "execution_count": 13,
   "id": "05425d6c",
   "metadata": {
    "scrolled": true
   },
   "outputs": [
    {
     "data": {
      "text/html": [
       "<div>\n",
       "<style scoped>\n",
       "    .dataframe tbody tr th:only-of-type {\n",
       "        vertical-align: middle;\n",
       "    }\n",
       "\n",
       "    .dataframe tbody tr th {\n",
       "        vertical-align: top;\n",
       "    }\n",
       "\n",
       "    .dataframe thead th {\n",
       "        text-align: right;\n",
       "    }\n",
       "</style>\n",
       "<table border=\"1\" class=\"dataframe\">\n",
       "  <thead>\n",
       "    <tr style=\"text-align: right;\">\n",
       "      <th></th>\n",
       "      <th>InvoiceNo</th>\n",
       "      <th>StockCode</th>\n",
       "      <th>Description</th>\n",
       "      <th>Quantity</th>\n",
       "      <th>InvoiceDate</th>\n",
       "      <th>UnitPrice</th>\n",
       "      <th>CustomerID</th>\n",
       "      <th>Country</th>\n",
       "      <th>Total_Sales</th>\n",
       "    </tr>\n",
       "  </thead>\n",
       "  <tbody>\n",
       "    <tr>\n",
       "      <th>0</th>\n",
       "      <td>536365</td>\n",
       "      <td>85123A</td>\n",
       "      <td>WHITE HANGING HEART T-LIGHT HOLDER</td>\n",
       "      <td>6</td>\n",
       "      <td>2010-12-01 08:26:00</td>\n",
       "      <td>2.55</td>\n",
       "      <td>17850.0</td>\n",
       "      <td>United Kingdom</td>\n",
       "      <td>15.30</td>\n",
       "    </tr>\n",
       "    <tr>\n",
       "      <th>1</th>\n",
       "      <td>536365</td>\n",
       "      <td>71053</td>\n",
       "      <td>WHITE METAL LANTERN</td>\n",
       "      <td>6</td>\n",
       "      <td>2010-12-01 08:26:00</td>\n",
       "      <td>3.39</td>\n",
       "      <td>17850.0</td>\n",
       "      <td>United Kingdom</td>\n",
       "      <td>20.34</td>\n",
       "    </tr>\n",
       "    <tr>\n",
       "      <th>2</th>\n",
       "      <td>536365</td>\n",
       "      <td>84406B</td>\n",
       "      <td>CREAM CUPID HEARTS COAT HANGER</td>\n",
       "      <td>8</td>\n",
       "      <td>2010-12-01 08:26:00</td>\n",
       "      <td>2.75</td>\n",
       "      <td>17850.0</td>\n",
       "      <td>United Kingdom</td>\n",
       "      <td>22.00</td>\n",
       "    </tr>\n",
       "    <tr>\n",
       "      <th>3</th>\n",
       "      <td>536365</td>\n",
       "      <td>84029G</td>\n",
       "      <td>KNITTED UNION FLAG HOT WATER BOTTLE</td>\n",
       "      <td>6</td>\n",
       "      <td>2010-12-01 08:26:00</td>\n",
       "      <td>3.39</td>\n",
       "      <td>17850.0</td>\n",
       "      <td>United Kingdom</td>\n",
       "      <td>20.34</td>\n",
       "    </tr>\n",
       "    <tr>\n",
       "      <th>4</th>\n",
       "      <td>536365</td>\n",
       "      <td>84029E</td>\n",
       "      <td>RED WOOLLY HOTTIE WHITE HEART.</td>\n",
       "      <td>6</td>\n",
       "      <td>2010-12-01 08:26:00</td>\n",
       "      <td>3.39</td>\n",
       "      <td>17850.0</td>\n",
       "      <td>United Kingdom</td>\n",
       "      <td>20.34</td>\n",
       "    </tr>\n",
       "  </tbody>\n",
       "</table>\n",
       "</div>"
      ],
      "text/plain": [
       "  InvoiceNo StockCode                          Description  Quantity  \\\n",
       "0    536365    85123A   WHITE HANGING HEART T-LIGHT HOLDER         6   \n",
       "1    536365     71053                  WHITE METAL LANTERN         6   \n",
       "2    536365    84406B       CREAM CUPID HEARTS COAT HANGER         8   \n",
       "3    536365    84029G  KNITTED UNION FLAG HOT WATER BOTTLE         6   \n",
       "4    536365    84029E       RED WOOLLY HOTTIE WHITE HEART.         6   \n",
       "\n",
       "          InvoiceDate  UnitPrice  CustomerID         Country  Total_Sales  \n",
       "0 2010-12-01 08:26:00       2.55     17850.0  United Kingdom        15.30  \n",
       "1 2010-12-01 08:26:00       3.39     17850.0  United Kingdom        20.34  \n",
       "2 2010-12-01 08:26:00       2.75     17850.0  United Kingdom        22.00  \n",
       "3 2010-12-01 08:26:00       3.39     17850.0  United Kingdom        20.34  \n",
       "4 2010-12-01 08:26:00       3.39     17850.0  United Kingdom        20.34  "
      ]
     },
     "execution_count": 13,
     "metadata": {},
     "output_type": "execute_result"
    }
   ],
   "source": [
    "df['Total_Sales'] = df['Quantity'] * df['UnitPrice']\n",
    "df.head()"
   ]
  },
  {
   "cell_type": "markdown",
   "id": "a7967159",
   "metadata": {},
   "source": [
    "#### Sales and Quantity Based on Country\n",
    "Group the data by country and count the number of transactions and sum the total sales for each country"
   ]
  },
  {
   "cell_type": "code",
   "execution_count": 14,
   "id": "891f2b54",
   "metadata": {},
   "outputs": [
    {
     "data": {
      "text/html": [
       "<div>\n",
       "<style scoped>\n",
       "    .dataframe tbody tr th:only-of-type {\n",
       "        vertical-align: middle;\n",
       "    }\n",
       "\n",
       "    .dataframe tbody tr th {\n",
       "        vertical-align: top;\n",
       "    }\n",
       "\n",
       "    .dataframe thead th {\n",
       "        text-align: right;\n",
       "    }\n",
       "</style>\n",
       "<table border=\"1\" class=\"dataframe\">\n",
       "  <thead>\n",
       "    <tr style=\"text-align: right;\">\n",
       "      <th></th>\n",
       "      <th>Total_Transaction</th>\n",
       "      <th>Total_Sales</th>\n",
       "      <th>Quantity</th>\n",
       "    </tr>\n",
       "    <tr>\n",
       "      <th>Country</th>\n",
       "      <th></th>\n",
       "      <th></th>\n",
       "      <th></th>\n",
       "    </tr>\n",
       "  </thead>\n",
       "  <tbody>\n",
       "    <tr>\n",
       "      <th>United Kingdom</th>\n",
       "      <td>354321</td>\n",
       "      <td>7308391.554</td>\n",
       "      <td>4256740</td>\n",
       "    </tr>\n",
       "    <tr>\n",
       "      <th>Netherlands</th>\n",
       "      <td>2359</td>\n",
       "      <td>285446.340</td>\n",
       "      <td>200361</td>\n",
       "    </tr>\n",
       "    <tr>\n",
       "      <th>EIRE</th>\n",
       "      <td>7236</td>\n",
       "      <td>265545.900</td>\n",
       "      <td>140275</td>\n",
       "    </tr>\n",
       "    <tr>\n",
       "      <th>Germany</th>\n",
       "      <td>9040</td>\n",
       "      <td>228867.140</td>\n",
       "      <td>119261</td>\n",
       "    </tr>\n",
       "    <tr>\n",
       "      <th>France</th>\n",
       "      <td>8341</td>\n",
       "      <td>209024.050</td>\n",
       "      <td>111471</td>\n",
       "    </tr>\n",
       "    <tr>\n",
       "      <th>Australia</th>\n",
       "      <td>1182</td>\n",
       "      <td>138521.310</td>\n",
       "      <td>83901</td>\n",
       "    </tr>\n",
       "    <tr>\n",
       "      <th>Spain</th>\n",
       "      <td>2484</td>\n",
       "      <td>61577.110</td>\n",
       "      <td>27940</td>\n",
       "    </tr>\n",
       "    <tr>\n",
       "      <th>Switzerland</th>\n",
       "      <td>1841</td>\n",
       "      <td>56443.950</td>\n",
       "      <td>30082</td>\n",
       "    </tr>\n",
       "    <tr>\n",
       "      <th>Belgium</th>\n",
       "      <td>2031</td>\n",
       "      <td>41196.340</td>\n",
       "      <td>23237</td>\n",
       "    </tr>\n",
       "    <tr>\n",
       "      <th>Sweden</th>\n",
       "      <td>451</td>\n",
       "      <td>38378.330</td>\n",
       "      <td>36083</td>\n",
       "    </tr>\n",
       "  </tbody>\n",
       "</table>\n",
       "</div>"
      ],
      "text/plain": [
       "                Total_Transaction  Total_Sales  Quantity\n",
       "Country                                                 \n",
       "United Kingdom             354321  7308391.554   4256740\n",
       "Netherlands                  2359   285446.340    200361\n",
       "EIRE                         7236   265545.900    140275\n",
       "Germany                      9040   228867.140    119261\n",
       "France                       8341   209024.050    111471\n",
       "Australia                    1182   138521.310     83901\n",
       "Spain                        2484    61577.110     27940\n",
       "Switzerland                  1841    56443.950     30082\n",
       "Belgium                      2031    41196.340     23237\n",
       "Sweden                        451    38378.330     36083"
      ]
     },
     "execution_count": 14,
     "metadata": {},
     "output_type": "execute_result"
    }
   ],
   "source": [
    "Sales_Country = df.groupby(['Country']).agg({'InvoiceNo': ['nunique'],\n",
    "                                      'InvoiceNo': 'count', 'Total_Sales':'sum', 'Quantity':'sum'}).rename(columns={'InvoiceNo':'Total_Transaction'}).sort_values('Total_Sales', ascending=False)\n",
    "Sales_Country.head(10)"
   ]
  },
  {
   "cell_type": "code",
   "execution_count": 15,
   "id": "dce1b5b3",
   "metadata": {
    "scrolled": true
   },
   "outputs": [
    {
     "data": {
      "image/png": "[encoded data removed]",
      "text/plain": [
       "<Figure size 900x600 with 3 Axes>"
      ]
     },
     "metadata": {},
     "output_type": "display_data"
    }
   ],
   "source": [
    "f, (ax1, ax2, ax3) = plt.subplots(1, 3, figsize=(9,6))\n",
    "\n",
    "def autopct(pct):\n",
    "    return ('%1.2f%%' % pct) if pct > 80 else ''\n",
    "\n",
    "p,t,a = ax1.pie(Sales_Country.Total_Sales, autopct=autopct)\n",
    "p,t,a = ax2.pie(Sales_Country.Quantity, autopct=autopct)\n",
    "p,t,a = ax3.pie(Sales_Country.Total_Transaction, autopct=autopct)\n",
    "ax1.axis('equal')\n",
    "ax2.axis('equal')\n",
    "ax3.axis('equal')\n",
    "\n",
    "# normalize dataframe (not actually needed here, but for general case)\n",
    "normsizes1 = Sales_Country.Total_Sales/Sales_Country.Total_Sales.sum()*100\n",
    "normsizes2 = Sales_Country.Quantity/Sales_Country.Quantity.sum()*100\n",
    "normsizes3 = Sales_Country.Total_Transaction/Sales_Country.Total_Transaction.sum()*100\n",
    "\n",
    "# create handles and labels for legend, take only those where value is > 1\n",
    "h,l = zip(*[(h,lab) for h,lab,i in zip(p,Sales_Country.index.values,normsizes1.values) if i > 1])\n",
    "h,j = zip(*[(h,lab) for h,lab,i in zip(p,Sales_Country.index.values,normsizes2.values) if i > 1])\n",
    "h,k = zip(*[(h,lab) for h,lab,i in zip(p,Sales_Country.index.values,normsizes3.values) if i > 1])\n",
    "\n",
    "ax1.set_title('Total Sales')\n",
    "ax2.set_title('Quantity')\n",
    "ax3.set_title('Total Transaction')\n",
    "ax1.legend(h, l,loc=\"best\", bbox_to_anchor=(1,1))\n",
    "ax2.legend(h, j,loc=\"best\", bbox_to_anchor=(1,1))\n",
    "ax3.legend(h, k,loc=\"best\", bbox_to_anchor=(1,1))\n",
    "plt.show()"
   ]
  },
  {
   "cell_type": "markdown",
   "id": "fa2f90a9",
   "metadata": {},
   "source": [
    "We can see that the majority of sales and transactions were made in UK and just 8.49% went abroad. The dataset is skewed to the UK"
   ]
  },
  {
   "cell_type": "markdown",
   "id": "59aa32d0",
   "metadata": {},
   "source": [
    "#### Best selling item"
   ]
  },
  {
   "cell_type": "code",
   "execution_count": 16,
   "id": "cc58387d",
   "metadata": {
    "scrolled": true
   },
   "outputs": [
    {
     "data": {
      "text/plain": [
       "WHITE HANGING HEART T-LIGHT HOLDER    2028\n",
       "REGENCY CAKESTAND 3 TIER              1723\n",
       "JUMBO BAG RED RETROSPOT               1618\n",
       "ASSORTED COLOUR BIRD ORNAMENT         1408\n",
       "PARTY BUNTING                         1396\n",
       "Name: Description, dtype: int64"
      ]
     },
     "execution_count": 16,
     "metadata": {},
     "output_type": "execute_result"
    }
   ],
   "source": [
    "df['Description'].value_counts().head()"
   ]
  },
  {
   "cell_type": "code",
   "execution_count": 17,
   "id": "42e9ff72",
   "metadata": {},
   "outputs": [
    {
     "data": {
      "image/png": "[encoded data removed]",
      "text/plain": [
       "<Figure size 1000x500 with 1 Axes>"
      ]
     },
     "metadata": {},
     "output_type": "display_data"
    }
   ],
   "source": [
    "num_item = df['Description'].value_counts().sort_values(ascending=False).iloc[0:10]\n",
    "plt.figure(figsize=(10,5))\n",
    "sns.barplot(x=num_item.index, y=num_item.values)\n",
    "plt.ylabel(\"Counts\")\n",
    "plt.title(\"Best selling Products\");\n",
    "plt.xticks(rotation=90);"
   ]
  },
  {
   "cell_type": "markdown",
   "id": "fcf51610",
   "metadata": {},
   "source": [
    "### Detecting outliers\n",
    "Plot the data and remove data points that visually are definitely out of range"
   ]
  },
  {
   "cell_type": "code",
   "execution_count": 18,
   "id": "7d81ed73",
   "metadata": {},
   "outputs": [
    {
     "data": {
      "image/png": "[encoded data removed]",
      "text/plain": [
       "<Figure size 1800x600 with 1 Axes>"
      ]
     },
     "metadata": {},
     "output_type": "display_data"
    }
   ],
   "source": [
    "plt.figure(figsize=(18,6))\n",
    "plt.scatter(x=df.index, y=df['Total_Sales'])\n",
    "plt.show()"
   ]
  },
  {
   "cell_type": "markdown",
   "id": "818853c3",
   "metadata": {},
   "source": [
    "Remove outliers"
   ]
  },
  {
   "cell_type": "code",
   "execution_count": 19,
   "id": "9348caef",
   "metadata": {
    "scrolled": true
   },
   "outputs": [
    {
     "data": {
      "image/png": "[encoded data removed]",
      "text/plain": [
       "<Figure size 1800x600 with 1 Axes>"
      ]
     },
     "metadata": {},
     "output_type": "display_data"
    }
   ],
   "source": [
    "df = df[df['Total_Sales'] < 25000]\n",
    "plt.figure(figsize=(18,6))\n",
    "plt.scatter(x=df.index, y=df['Total_Sales'])\n",
    "plt.show()"
   ]
  },
  {
   "cell_type": "markdown",
   "id": "3df8572b",
   "metadata": {},
   "source": [
    "Check the distribution of our data by different percentiles of the numeric features"
   ]
  },
  {
   "cell_type": "markdown",
   "id": "6e50865e",
   "metadata": {},
   "source": [
    "## Modelling\n",
    "We can see from the visualisation,t the majority of sales from the and transactions were made in UK, so I split data into UK and non-UK and I analise UK data that the the model built for UK performs good on data for other countries"
   ]
  },
  {
   "cell_type": "code",
   "execution_count": 20,
   "id": "dfc8b683",
   "metadata": {},
   "outputs": [],
   "source": [
    "df_UK=df[df['Country']==\"United Kingdom\"]\n",
    "df_Othters = df[df['Country'] != 'United Kingdom']"
   ]
  },
  {
   "cell_type": "code",
   "execution_count": 21,
   "id": "cf19a2fb",
   "metadata": {},
   "outputs": [
    {
     "data": {
      "text/html": [
       "<div>\n",
       "<style scoped>\n",
       "    .dataframe tbody tr th:only-of-type {\n",
       "        vertical-align: middle;\n",
       "    }\n",
       "\n",
       "    .dataframe tbody tr th {\n",
       "        vertical-align: top;\n",
       "    }\n",
       "\n",
       "    .dataframe thead th {\n",
       "        text-align: right;\n",
       "    }\n",
       "</style>\n",
       "<table border=\"1\" class=\"dataframe\">\n",
       "  <thead>\n",
       "    <tr style=\"text-align: right;\">\n",
       "      <th></th>\n",
       "      <th>InvoiceNo</th>\n",
       "      <th>StockCode</th>\n",
       "      <th>Description</th>\n",
       "      <th>Quantity</th>\n",
       "      <th>InvoiceDate</th>\n",
       "      <th>UnitPrice</th>\n",
       "      <th>CustomerID</th>\n",
       "      <th>Country</th>\n",
       "      <th>Total_Sales</th>\n",
       "    </tr>\n",
       "  </thead>\n",
       "  <tbody>\n",
       "    <tr>\n",
       "      <th>0</th>\n",
       "      <td>536365</td>\n",
       "      <td>85123A</td>\n",
       "      <td>WHITE HANGING HEART T-LIGHT HOLDER</td>\n",
       "      <td>6</td>\n",
       "      <td>2010-12-01 08:26:00</td>\n",
       "      <td>2.55</td>\n",
       "      <td>17850.0</td>\n",
       "      <td>United Kingdom</td>\n",
       "      <td>15.30</td>\n",
       "    </tr>\n",
       "    <tr>\n",
       "      <th>1</th>\n",
       "      <td>536365</td>\n",
       "      <td>71053</td>\n",
       "      <td>WHITE METAL LANTERN</td>\n",
       "      <td>6</td>\n",
       "      <td>2010-12-01 08:26:00</td>\n",
       "      <td>3.39</td>\n",
       "      <td>17850.0</td>\n",
       "      <td>United Kingdom</td>\n",
       "      <td>20.34</td>\n",
       "    </tr>\n",
       "    <tr>\n",
       "      <th>2</th>\n",
       "      <td>536365</td>\n",
       "      <td>84406B</td>\n",
       "      <td>CREAM CUPID HEARTS COAT HANGER</td>\n",
       "      <td>8</td>\n",
       "      <td>2010-12-01 08:26:00</td>\n",
       "      <td>2.75</td>\n",
       "      <td>17850.0</td>\n",
       "      <td>United Kingdom</td>\n",
       "      <td>22.00</td>\n",
       "    </tr>\n",
       "    <tr>\n",
       "      <th>3</th>\n",
       "      <td>536365</td>\n",
       "      <td>84029G</td>\n",
       "      <td>KNITTED UNION FLAG HOT WATER BOTTLE</td>\n",
       "      <td>6</td>\n",
       "      <td>2010-12-01 08:26:00</td>\n",
       "      <td>3.39</td>\n",
       "      <td>17850.0</td>\n",
       "      <td>United Kingdom</td>\n",
       "      <td>20.34</td>\n",
       "    </tr>\n",
       "    <tr>\n",
       "      <th>4</th>\n",
       "      <td>536365</td>\n",
       "      <td>84029E</td>\n",
       "      <td>RED WOOLLY HOTTIE WHITE HEART.</td>\n",
       "      <td>6</td>\n",
       "      <td>2010-12-01 08:26:00</td>\n",
       "      <td>3.39</td>\n",
       "      <td>17850.0</td>\n",
       "      <td>United Kingdom</td>\n",
       "      <td>20.34</td>\n",
       "    </tr>\n",
       "  </tbody>\n",
       "</table>\n",
       "</div>"
      ],
      "text/plain": [
       "  InvoiceNo StockCode                          Description  Quantity  \\\n",
       "0    536365    85123A   WHITE HANGING HEART T-LIGHT HOLDER         6   \n",
       "1    536365     71053                  WHITE METAL LANTERN         6   \n",
       "2    536365    84406B       CREAM CUPID HEARTS COAT HANGER         8   \n",
       "3    536365    84029G  KNITTED UNION FLAG HOT WATER BOTTLE         6   \n",
       "4    536365    84029E       RED WOOLLY HOTTIE WHITE HEART.         6   \n",
       "\n",
       "          InvoiceDate  UnitPrice  CustomerID         Country  Total_Sales  \n",
       "0 2010-12-01 08:26:00       2.55     17850.0  United Kingdom        15.30  \n",
       "1 2010-12-01 08:26:00       3.39     17850.0  United Kingdom        20.34  \n",
       "2 2010-12-01 08:26:00       2.75     17850.0  United Kingdom        22.00  \n",
       "3 2010-12-01 08:26:00       3.39     17850.0  United Kingdom        20.34  \n",
       "4 2010-12-01 08:26:00       3.39     17850.0  United Kingdom        20.34  "
      ]
     },
     "execution_count": 21,
     "metadata": {},
     "output_type": "execute_result"
    }
   ],
   "source": [
    "df_UK.head()"
   ]
  },
  {
   "cell_type": "code",
   "execution_count": 22,
   "id": "7ea97039",
   "metadata": {},
   "outputs": [
    {
     "data": {
      "text/html": [
       "<div>\n",
       "<style scoped>\n",
       "    .dataframe tbody tr th:only-of-type {\n",
       "        vertical-align: middle;\n",
       "    }\n",
       "\n",
       "    .dataframe tbody tr th {\n",
       "        vertical-align: top;\n",
       "    }\n",
       "\n",
       "    .dataframe thead tr th {\n",
       "        text-align: left;\n",
       "    }\n",
       "\n",
       "    .dataframe thead tr:last-of-type th {\n",
       "        text-align: right;\n",
       "    }\n",
       "</style>\n",
       "<table border=\"1\" class=\"dataframe\">\n",
       "  <thead>\n",
       "    <tr>\n",
       "      <th></th>\n",
       "      <th colspan=\"5\" halign=\"left\">Total_Sales</th>\n",
       "      <th colspan=\"4\" halign=\"left\">InvoiceDate</th>\n",
       "    </tr>\n",
       "    <tr>\n",
       "      <th></th>\n",
       "      <th>min</th>\n",
       "      <th>max</th>\n",
       "      <th>sum</th>\n",
       "      <th>groupby_mean</th>\n",
       "      <th>groupby_count</th>\n",
       "      <th>min</th>\n",
       "      <th>max</th>\n",
       "      <th>purchase_duration</th>\n",
       "      <th>purcharse_frequency</th>\n",
       "    </tr>\n",
       "    <tr>\n",
       "      <th>CustomerID</th>\n",
       "      <th></th>\n",
       "      <th></th>\n",
       "      <th></th>\n",
       "      <th></th>\n",
       "      <th></th>\n",
       "      <th></th>\n",
       "      <th></th>\n",
       "      <th></th>\n",
       "      <th></th>\n",
       "    </tr>\n",
       "  </thead>\n",
       "  <tbody>\n",
       "    <tr>\n",
       "      <th>12747.0</th>\n",
       "      <td>10.20</td>\n",
       "      <td>243.00</td>\n",
       "      <td>4196.01</td>\n",
       "      <td>40.737961</td>\n",
       "      <td>103</td>\n",
       "      <td>2010-12-05 15:38:00</td>\n",
       "      <td>2011-12-07 14:34:00</td>\n",
       "      <td>366</td>\n",
       "      <td>3.553398</td>\n",
       "    </tr>\n",
       "    <tr>\n",
       "      <th>12748.0</th>\n",
       "      <td>0.06</td>\n",
       "      <td>850.50</td>\n",
       "      <td>33719.73</td>\n",
       "      <td>7.338353</td>\n",
       "      <td>4595</td>\n",
       "      <td>2010-12-01 12:48:00</td>\n",
       "      <td>2011-12-09 12:20:00</td>\n",
       "      <td>372</td>\n",
       "      <td>0.080958</td>\n",
       "    </tr>\n",
       "    <tr>\n",
       "      <th>12749.0</th>\n",
       "      <td>6.64</td>\n",
       "      <td>114.75</td>\n",
       "      <td>4090.88</td>\n",
       "      <td>20.557186</td>\n",
       "      <td>199</td>\n",
       "      <td>2011-05-10 15:25:00</td>\n",
       "      <td>2011-12-06 09:56:00</td>\n",
       "      <td>209</td>\n",
       "      <td>1.050251</td>\n",
       "    </tr>\n",
       "    <tr>\n",
       "      <th>12820.0</th>\n",
       "      <td>6.96</td>\n",
       "      <td>37.80</td>\n",
       "      <td>942.34</td>\n",
       "      <td>15.971864</td>\n",
       "      <td>59</td>\n",
       "      <td>2011-01-17 12:34:00</td>\n",
       "      <td>2011-12-06 15:12:00</td>\n",
       "      <td>323</td>\n",
       "      <td>5.474576</td>\n",
       "    </tr>\n",
       "    <tr>\n",
       "      <th>12821.0</th>\n",
       "      <td>10.20</td>\n",
       "      <td>19.92</td>\n",
       "      <td>92.72</td>\n",
       "      <td>15.453333</td>\n",
       "      <td>6</td>\n",
       "      <td>2011-05-09 15:51:00</td>\n",
       "      <td>2011-05-09 15:51:00</td>\n",
       "      <td>0</td>\n",
       "      <td>0.000000</td>\n",
       "    </tr>\n",
       "    <tr>\n",
       "      <th>...</th>\n",
       "      <td>...</td>\n",
       "      <td>...</td>\n",
       "      <td>...</td>\n",
       "      <td>...</td>\n",
       "      <td>...</td>\n",
       "      <td>...</td>\n",
       "      <td>...</td>\n",
       "      <td>...</td>\n",
       "      <td>...</td>\n",
       "    </tr>\n",
       "    <tr>\n",
       "      <th>18280.0</th>\n",
       "      <td>14.85</td>\n",
       "      <td>23.70</td>\n",
       "      <td>180.60</td>\n",
       "      <td>18.060000</td>\n",
       "      <td>10</td>\n",
       "      <td>2011-03-07 09:52:00</td>\n",
       "      <td>2011-03-07 09:52:00</td>\n",
       "      <td>0</td>\n",
       "      <td>0.000000</td>\n",
       "    </tr>\n",
       "    <tr>\n",
       "      <th>18281.0</th>\n",
       "      <td>5.04</td>\n",
       "      <td>16.95</td>\n",
       "      <td>80.82</td>\n",
       "      <td>11.545714</td>\n",
       "      <td>7</td>\n",
       "      <td>2011-06-12 10:53:00</td>\n",
       "      <td>2011-06-12 10:53:00</td>\n",
       "      <td>0</td>\n",
       "      <td>0.000000</td>\n",
       "    </tr>\n",
       "    <tr>\n",
       "      <th>18282.0</th>\n",
       "      <td>5.04</td>\n",
       "      <td>25.50</td>\n",
       "      <td>178.05</td>\n",
       "      <td>14.837500</td>\n",
       "      <td>12</td>\n",
       "      <td>2011-08-05 13:35:00</td>\n",
       "      <td>2011-12-02 11:43:00</td>\n",
       "      <td>118</td>\n",
       "      <td>9.833333</td>\n",
       "    </tr>\n",
       "    <tr>\n",
       "      <th>18283.0</th>\n",
       "      <td>0.29</td>\n",
       "      <td>20.80</td>\n",
       "      <td>2094.88</td>\n",
       "      <td>2.771005</td>\n",
       "      <td>756</td>\n",
       "      <td>2011-01-06 14:14:00</td>\n",
       "      <td>2011-12-06 12:02:00</td>\n",
       "      <td>333</td>\n",
       "      <td>0.440476</td>\n",
       "    </tr>\n",
       "    <tr>\n",
       "      <th>18287.0</th>\n",
       "      <td>5.04</td>\n",
       "      <td>87.00</td>\n",
       "      <td>1837.28</td>\n",
       "      <td>26.246857</td>\n",
       "      <td>70</td>\n",
       "      <td>2011-05-22 10:39:00</td>\n",
       "      <td>2011-10-28 09:29:00</td>\n",
       "      <td>158</td>\n",
       "      <td>2.257143</td>\n",
       "    </tr>\n",
       "  </tbody>\n",
       "</table>\n",
       "<p>3919 rows × 9 columns</p>\n",
       "</div>"
      ],
      "text/plain": [
       "           Total_Sales                                               \\\n",
       "                   min     max       sum groupby_mean groupby_count   \n",
       "CustomerID                                                            \n",
       "12747.0          10.20  243.00   4196.01    40.737961           103   \n",
       "12748.0           0.06  850.50  33719.73     7.338353          4595   \n",
       "12749.0           6.64  114.75   4090.88    20.557186           199   \n",
       "12820.0           6.96   37.80    942.34    15.971864            59   \n",
       "12821.0          10.20   19.92     92.72    15.453333             6   \n",
       "...                ...     ...       ...          ...           ...   \n",
       "18280.0          14.85   23.70    180.60    18.060000            10   \n",
       "18281.0           5.04   16.95     80.82    11.545714             7   \n",
       "18282.0           5.04   25.50    178.05    14.837500            12   \n",
       "18283.0           0.29   20.80   2094.88     2.771005           756   \n",
       "18287.0           5.04   87.00   1837.28    26.246857            70   \n",
       "\n",
       "                   InvoiceDate                                        \\\n",
       "                           min                 max purchase_duration   \n",
       "CustomerID                                                             \n",
       "12747.0    2010-12-05 15:38:00 2011-12-07 14:34:00               366   \n",
       "12748.0    2010-12-01 12:48:00 2011-12-09 12:20:00               372   \n",
       "12749.0    2011-05-10 15:25:00 2011-12-06 09:56:00               209   \n",
       "12820.0    2011-01-17 12:34:00 2011-12-06 15:12:00               323   \n",
       "12821.0    2011-05-09 15:51:00 2011-05-09 15:51:00                 0   \n",
       "...                        ...                 ...               ...   \n",
       "18280.0    2011-03-07 09:52:00 2011-03-07 09:52:00                 0   \n",
       "18281.0    2011-06-12 10:53:00 2011-06-12 10:53:00                 0   \n",
       "18282.0    2011-08-05 13:35:00 2011-12-02 11:43:00               118   \n",
       "18283.0    2011-01-06 14:14:00 2011-12-06 12:02:00               333   \n",
       "18287.0    2011-05-22 10:39:00 2011-10-28 09:29:00               158   \n",
       "\n",
       "                                \n",
       "           purcharse_frequency  \n",
       "CustomerID                      \n",
       "12747.0               3.553398  \n",
       "12748.0               0.080958  \n",
       "12749.0               1.050251  \n",
       "12820.0               5.474576  \n",
       "12821.0               0.000000  \n",
       "...                        ...  \n",
       "18280.0               0.000000  \n",
       "18281.0               0.000000  \n",
       "18282.0               9.833333  \n",
       "18283.0               0.440476  \n",
       "18287.0               2.257143  \n",
       "\n",
       "[3919 rows x 9 columns]"
      ]
     },
     "execution_count": 22,
     "metadata": {},
     "output_type": "execute_result"
    }
   ],
   "source": [
    "def groupby_mean(x):\n",
    "    return x.mean()\n",
    "\n",
    "def groupby_count(x):\n",
    "    return x.count()\n",
    "\n",
    "def purchase_duration(x):\n",
    "    return (x.max() - x.min()).days\n",
    "\n",
    "def purcharse_frequency(x):\n",
    "    return (x.max() - x.min()).days / x.count()\n",
    "\n",
    "## Summarise the data by Country_Code\n",
    "df_UK.groupby(['CustomerID']).agg({'Total_Sales': [min, max, sum, groupby_mean, groupby_count], \n",
    "                                           'InvoiceDate': [min, max, purchase_duration, purcharse_frequency]})"
   ]
  },
  {
   "cell_type": "code",
   "execution_count": 23,
   "id": "55e13368",
   "metadata": {},
   "outputs": [
    {
     "data": {
      "text/html": [
       "<div>\n",
       "<style scoped>\n",
       "    .dataframe tbody tr th:only-of-type {\n",
       "        vertical-align: middle;\n",
       "    }\n",
       "\n",
       "    .dataframe tbody tr th {\n",
       "        vertical-align: top;\n",
       "    }\n",
       "\n",
       "    .dataframe thead tr th {\n",
       "        text-align: left;\n",
       "    }\n",
       "\n",
       "    .dataframe thead tr:last-of-type th {\n",
       "        text-align: right;\n",
       "    }\n",
       "</style>\n",
       "<table border=\"1\" class=\"dataframe\">\n",
       "  <thead>\n",
       "    <tr>\n",
       "      <th></th>\n",
       "      <th></th>\n",
       "      <th colspan=\"3\" halign=\"left\">Total_Sales</th>\n",
       "    </tr>\n",
       "    <tr>\n",
       "      <th></th>\n",
       "      <th></th>\n",
       "      <th>sum</th>\n",
       "      <th>groupby_mean</th>\n",
       "      <th>groupby_count</th>\n",
       "    </tr>\n",
       "    <tr>\n",
       "      <th>CustomerID</th>\n",
       "      <th>InvoiceDate</th>\n",
       "      <th></th>\n",
       "      <th></th>\n",
       "      <th></th>\n",
       "    </tr>\n",
       "  </thead>\n",
       "  <tbody>\n",
       "    <tr>\n",
       "      <th rowspan=\"5\" valign=\"top\">12747.0</th>\n",
       "      <th>2010-12-31</th>\n",
       "      <td>706.27</td>\n",
       "      <td>47.084667</td>\n",
       "      <td>15</td>\n",
       "    </tr>\n",
       "    <tr>\n",
       "      <th>2011-03-31</th>\n",
       "      <td>613.82</td>\n",
       "      <td>36.107059</td>\n",
       "      <td>17</td>\n",
       "    </tr>\n",
       "    <tr>\n",
       "      <th>2011-06-30</th>\n",
       "      <td>1147.61</td>\n",
       "      <td>37.019677</td>\n",
       "      <td>31</td>\n",
       "    </tr>\n",
       "    <tr>\n",
       "      <th>2011-09-30</th>\n",
       "      <td>301.70</td>\n",
       "      <td>43.100000</td>\n",
       "      <td>7</td>\n",
       "    </tr>\n",
       "    <tr>\n",
       "      <th>2011-12-31</th>\n",
       "      <td>1426.61</td>\n",
       "      <td>43.230606</td>\n",
       "      <td>33</td>\n",
       "    </tr>\n",
       "  </tbody>\n",
       "</table>\n",
       "</div>"
      ],
      "text/plain": [
       "                       Total_Sales                           \n",
       "                               sum groupby_mean groupby_count\n",
       "CustomerID InvoiceDate                                       \n",
       "12747.0    2010-12-31       706.27    47.084667            15\n",
       "           2011-03-31       613.82    36.107059            17\n",
       "           2011-06-30      1147.61    37.019677            31\n",
       "           2011-09-30       301.70    43.100000             7\n",
       "           2011-12-31      1426.61    43.230606            33"
      ]
     },
     "execution_count": 23,
     "metadata": {},
     "output_type": "execute_result"
    }
   ],
   "source": [
    "customer_orders = df_UK.groupby(['CustomerID', 'InvoiceDate']).agg({'Total_Sales': [sum, groupby_mean, groupby_count]})\n",
    "customer_orders = df_UK.groupby(['CustomerID', pd.Grouper(key = 'InvoiceDate', freq = '3M')]).agg({'Total_Sales':[sum, groupby_mean, groupby_count]})\n",
    "customer_orders.head()"
   ]
  },
  {
   "cell_type": "code",
   "execution_count": 24,
   "id": "4843df7c",
   "metadata": {},
   "outputs": [
    {
     "data": {
      "text/html": [
       "<div>\n",
       "<style scoped>\n",
       "    .dataframe tbody tr th:only-of-type {\n",
       "        vertical-align: middle;\n",
       "    }\n",
       "\n",
       "    .dataframe tbody tr th {\n",
       "        vertical-align: top;\n",
       "    }\n",
       "\n",
       "    .dataframe thead tr th {\n",
       "        text-align: left;\n",
       "    }\n",
       "</style>\n",
       "<table border=\"1\" class=\"dataframe\">\n",
       "  <thead>\n",
       "    <tr>\n",
       "      <th></th>\n",
       "      <th>CustomerID</th>\n",
       "      <th>InvoiceDate</th>\n",
       "      <th colspan=\"3\" halign=\"left\">Total_Sales</th>\n",
       "    </tr>\n",
       "    <tr>\n",
       "      <th></th>\n",
       "      <th></th>\n",
       "      <th></th>\n",
       "      <th>sum</th>\n",
       "      <th>groupby_mean</th>\n",
       "      <th>groupby_count</th>\n",
       "    </tr>\n",
       "  </thead>\n",
       "  <tbody>\n",
       "    <tr>\n",
       "      <th>0</th>\n",
       "      <td>12747.0</td>\n",
       "      <td>2010-12-31</td>\n",
       "      <td>706.27</td>\n",
       "      <td>47.084667</td>\n",
       "      <td>15</td>\n",
       "    </tr>\n",
       "    <tr>\n",
       "      <th>1</th>\n",
       "      <td>12747.0</td>\n",
       "      <td>2011-03-31</td>\n",
       "      <td>613.82</td>\n",
       "      <td>36.107059</td>\n",
       "      <td>17</td>\n",
       "    </tr>\n",
       "    <tr>\n",
       "      <th>2</th>\n",
       "      <td>12747.0</td>\n",
       "      <td>2011-06-30</td>\n",
       "      <td>1147.61</td>\n",
       "      <td>37.019677</td>\n",
       "      <td>31</td>\n",
       "    </tr>\n",
       "    <tr>\n",
       "      <th>3</th>\n",
       "      <td>12747.0</td>\n",
       "      <td>2011-09-30</td>\n",
       "      <td>301.70</td>\n",
       "      <td>43.100000</td>\n",
       "      <td>7</td>\n",
       "    </tr>\n",
       "    <tr>\n",
       "      <th>4</th>\n",
       "      <td>12747.0</td>\n",
       "      <td>2011-12-31</td>\n",
       "      <td>1426.61</td>\n",
       "      <td>43.230606</td>\n",
       "      <td>33</td>\n",
       "    </tr>\n",
       "  </tbody>\n",
       "</table>\n",
       "</div>"
      ],
      "text/plain": [
       "  CustomerID InvoiceDate Total_Sales                           \n",
       "                                 sum groupby_mean groupby_count\n",
       "0    12747.0  2010-12-31      706.27    47.084667            15\n",
       "1    12747.0  2011-03-31      613.82    36.107059            17\n",
       "2    12747.0  2011-06-30     1147.61    37.019677            31\n",
       "3    12747.0  2011-09-30      301.70    43.100000             7\n",
       "4    12747.0  2011-12-31     1426.61    43.230606            33"
      ]
     },
     "execution_count": 24,
     "metadata": {},
     "output_type": "execute_result"
    }
   ],
   "source": [
    "customer_orders = customer_orders.reset_index()\n",
    "customer_orders.head()"
   ]
  },
  {
   "cell_type": "code",
   "execution_count": 25,
   "id": "abeca400",
   "metadata": {},
   "outputs": [
    {
     "name": "stdout",
     "output_type": "stream",
     "text": [
      "   CustomerID InvoiceDate  sales_sum  sales_avg  sales_count\n",
      "0     12747.0  2010-12-31     706.27  47.084667           15\n",
      "1     12747.0  2011-03-31     613.82  36.107059           17\n",
      "2     12747.0  2011-06-30    1147.61  37.019677           31\n",
      "3     12747.0  2011-09-30     301.70  43.100000            7\n",
      "4     12747.0  2011-12-31    1426.61  43.230606           33\n"
     ]
    }
   ],
   "source": [
    "customer_orders.columns = ['CustomerID', 'InvoiceDate', 'sales_sum', 'sales_avg', 'sales_count']\n",
    "print(customer_orders.head())"
   ]
  },
  {
   "cell_type": "markdown",
   "id": "719866ad",
   "metadata": {},
   "source": [
    "Divide transcation on a quarterly basis"
   ]
  },
  {
   "cell_type": "code",
   "execution_count": 26,
   "id": "cabd4bca",
   "metadata": {},
   "outputs": [
    {
     "data": {
      "text/html": [
       "<div>\n",
       "<style scoped>\n",
       "    .dataframe tbody tr th:only-of-type {\n",
       "        vertical-align: middle;\n",
       "    }\n",
       "\n",
       "    .dataframe tbody tr th {\n",
       "        vertical-align: top;\n",
       "    }\n",
       "\n",
       "    .dataframe thead th {\n",
       "        text-align: right;\n",
       "    }\n",
       "</style>\n",
       "<table border=\"1\" class=\"dataframe\">\n",
       "  <thead>\n",
       "    <tr style=\"text-align: right;\">\n",
       "      <th></th>\n",
       "      <th>CustomerID</th>\n",
       "      <th>InvoiceDate</th>\n",
       "      <th>sales_sum</th>\n",
       "      <th>sales_avg</th>\n",
       "      <th>sales_count</th>\n",
       "      <th>Quarter</th>\n",
       "    </tr>\n",
       "  </thead>\n",
       "  <tbody>\n",
       "    <tr>\n",
       "      <th>0</th>\n",
       "      <td>12747.0</td>\n",
       "      <td>2010-12-31</td>\n",
       "      <td>706.27</td>\n",
       "      <td>47.084667</td>\n",
       "      <td>15</td>\n",
       "      <td>Q5</td>\n",
       "    </tr>\n",
       "    <tr>\n",
       "      <th>1</th>\n",
       "      <td>12747.0</td>\n",
       "      <td>2011-03-31</td>\n",
       "      <td>613.82</td>\n",
       "      <td>36.107059</td>\n",
       "      <td>17</td>\n",
       "      <td>Q4</td>\n",
       "    </tr>\n",
       "    <tr>\n",
       "      <th>2</th>\n",
       "      <td>12747.0</td>\n",
       "      <td>2011-06-30</td>\n",
       "      <td>1147.61</td>\n",
       "      <td>37.019677</td>\n",
       "      <td>31</td>\n",
       "      <td>Q3</td>\n",
       "    </tr>\n",
       "    <tr>\n",
       "      <th>3</th>\n",
       "      <td>12747.0</td>\n",
       "      <td>2011-09-30</td>\n",
       "      <td>301.70</td>\n",
       "      <td>43.100000</td>\n",
       "      <td>7</td>\n",
       "      <td>Q2</td>\n",
       "    </tr>\n",
       "    <tr>\n",
       "      <th>4</th>\n",
       "      <td>12747.0</td>\n",
       "      <td>2011-12-31</td>\n",
       "      <td>1426.61</td>\n",
       "      <td>43.230606</td>\n",
       "      <td>33</td>\n",
       "      <td>Q1</td>\n",
       "    </tr>\n",
       "  </tbody>\n",
       "</table>\n",
       "</div>"
      ],
      "text/plain": [
       "   CustomerID InvoiceDate  sales_sum  sales_avg  sales_count Quarter\n",
       "0     12747.0  2010-12-31     706.27  47.084667           15      Q5\n",
       "1     12747.0  2011-03-31     613.82  36.107059           17      Q4\n",
       "2     12747.0  2011-06-30    1147.61  37.019677           31      Q3\n",
       "3     12747.0  2011-09-30     301.70  43.100000            7      Q2\n",
       "4     12747.0  2011-12-31    1426.61  43.230606           33      Q1"
      ]
     },
     "execution_count": 26,
     "metadata": {},
     "output_type": "execute_result"
    }
   ],
   "source": [
    "customer_orders['Quarter'] = np.where(customer_orders['InvoiceDate'] == '2011-12-31', 'Q1',                                                     \n",
    "                                      np.where(customer_orders['InvoiceDate'] == '2011-09-30', 'Q2', \n",
    "                                               np.where(customer_orders['InvoiceDate'] == '2011-06-30', 'Q3',\n",
    "                                                        np.where(customer_orders['InvoiceDate'] == '2011-03-31', 'Q4', 'Q5'))))\n",
    "\n",
    "customer_orders.head()"
   ]
  },
  {
   "cell_type": "markdown",
   "id": "c7816871",
   "metadata": {},
   "source": [
    "Aggregate by quarter"
   ]
  },
  {
   "cell_type": "code",
   "execution_count": 27,
   "id": "2eef05bc",
   "metadata": {},
   "outputs": [
    {
     "data": {
      "text/html": [
       "<div>\n",
       "<style scoped>\n",
       "    .dataframe tbody tr th:only-of-type {\n",
       "        vertical-align: middle;\n",
       "    }\n",
       "\n",
       "    .dataframe tbody tr th {\n",
       "        vertical-align: top;\n",
       "    }\n",
       "\n",
       "    .dataframe thead tr th {\n",
       "        text-align: left;\n",
       "    }\n",
       "\n",
       "    .dataframe thead tr:last-of-type th {\n",
       "        text-align: right;\n",
       "    }\n",
       "</style>\n",
       "<table border=\"1\" class=\"dataframe\">\n",
       "  <thead>\n",
       "    <tr>\n",
       "      <th></th>\n",
       "      <th colspan=\"5\" halign=\"left\">sales_avg</th>\n",
       "      <th colspan=\"5\" halign=\"left\">sales_count</th>\n",
       "      <th colspan=\"5\" halign=\"left\">sales_sum</th>\n",
       "    </tr>\n",
       "    <tr>\n",
       "      <th>Quarter</th>\n",
       "      <th>Q1</th>\n",
       "      <th>Q2</th>\n",
       "      <th>Q3</th>\n",
       "      <th>Q4</th>\n",
       "      <th>Q5</th>\n",
       "      <th>Q1</th>\n",
       "      <th>Q2</th>\n",
       "      <th>Q3</th>\n",
       "      <th>Q4</th>\n",
       "      <th>Q5</th>\n",
       "      <th>Q1</th>\n",
       "      <th>Q2</th>\n",
       "      <th>Q3</th>\n",
       "      <th>Q4</th>\n",
       "      <th>Q5</th>\n",
       "    </tr>\n",
       "    <tr>\n",
       "      <th>CustomerID</th>\n",
       "      <th></th>\n",
       "      <th></th>\n",
       "      <th></th>\n",
       "      <th></th>\n",
       "      <th></th>\n",
       "      <th></th>\n",
       "      <th></th>\n",
       "      <th></th>\n",
       "      <th></th>\n",
       "      <th></th>\n",
       "      <th></th>\n",
       "      <th></th>\n",
       "      <th></th>\n",
       "      <th></th>\n",
       "      <th></th>\n",
       "    </tr>\n",
       "  </thead>\n",
       "  <tbody>\n",
       "    <tr>\n",
       "      <th>12747.0</th>\n",
       "      <td>43.230606</td>\n",
       "      <td>43.100000</td>\n",
       "      <td>37.019677</td>\n",
       "      <td>36.107059</td>\n",
       "      <td>47.084667</td>\n",
       "      <td>33.0</td>\n",
       "      <td>7.0</td>\n",
       "      <td>31.0</td>\n",
       "      <td>17.0</td>\n",
       "      <td>15.0</td>\n",
       "      <td>1426.61</td>\n",
       "      <td>301.70</td>\n",
       "      <td>1147.61</td>\n",
       "      <td>613.82</td>\n",
       "      <td>706.27</td>\n",
       "    </tr>\n",
       "    <tr>\n",
       "      <th>12748.0</th>\n",
       "      <td>6.341639</td>\n",
       "      <td>10.570402</td>\n",
       "      <td>8.451155</td>\n",
       "      <td>6.310413</td>\n",
       "      <td>6.329536</td>\n",
       "      <td>2208.0</td>\n",
       "      <td>772.0</td>\n",
       "      <td>632.0</td>\n",
       "      <td>315.0</td>\n",
       "      <td>668.0</td>\n",
       "      <td>14002.34</td>\n",
       "      <td>8160.35</td>\n",
       "      <td>5341.13</td>\n",
       "      <td>1987.78</td>\n",
       "      <td>4228.13</td>\n",
       "    </tr>\n",
       "    <tr>\n",
       "      <th>12749.0</th>\n",
       "      <td>18.811972</td>\n",
       "      <td>22.307412</td>\n",
       "      <td>19.979070</td>\n",
       "      <td>NaN</td>\n",
       "      <td>NaN</td>\n",
       "      <td>71.0</td>\n",
       "      <td>85.0</td>\n",
       "      <td>43.0</td>\n",
       "      <td>NaN</td>\n",
       "      <td>NaN</td>\n",
       "      <td>1335.65</td>\n",
       "      <td>1896.13</td>\n",
       "      <td>859.10</td>\n",
       "      <td>NaN</td>\n",
       "      <td>NaN</td>\n",
       "    </tr>\n",
       "    <tr>\n",
       "      <th>12820.0</th>\n",
       "      <td>16.297353</td>\n",
       "      <td>15.555000</td>\n",
       "      <td>NaN</td>\n",
       "      <td>15.496364</td>\n",
       "      <td>NaN</td>\n",
       "      <td>34.0</td>\n",
       "      <td>14.0</td>\n",
       "      <td>NaN</td>\n",
       "      <td>11.0</td>\n",
       "      <td>NaN</td>\n",
       "      <td>554.11</td>\n",
       "      <td>217.77</td>\n",
       "      <td>NaN</td>\n",
       "      <td>170.46</td>\n",
       "      <td>NaN</td>\n",
       "    </tr>\n",
       "    <tr>\n",
       "      <th>12821.0</th>\n",
       "      <td>NaN</td>\n",
       "      <td>NaN</td>\n",
       "      <td>15.453333</td>\n",
       "      <td>NaN</td>\n",
       "      <td>NaN</td>\n",
       "      <td>NaN</td>\n",
       "      <td>NaN</td>\n",
       "      <td>6.0</td>\n",
       "      <td>NaN</td>\n",
       "      <td>NaN</td>\n",
       "      <td>NaN</td>\n",
       "      <td>NaN</td>\n",
       "      <td>92.72</td>\n",
       "      <td>NaN</td>\n",
       "      <td>NaN</td>\n",
       "    </tr>\n",
       "  </tbody>\n",
       "</table>\n",
       "</div>"
      ],
      "text/plain": [
       "            sales_avg                                             sales_count  \\\n",
       "Quarter            Q1         Q2         Q3         Q4         Q5          Q1   \n",
       "CustomerID                                                                      \n",
       "12747.0     43.230606  43.100000  37.019677  36.107059  47.084667        33.0   \n",
       "12748.0      6.341639  10.570402   8.451155   6.310413   6.329536      2208.0   \n",
       "12749.0     18.811972  22.307412  19.979070        NaN        NaN        71.0   \n",
       "12820.0     16.297353  15.555000        NaN  15.496364        NaN        34.0   \n",
       "12821.0           NaN        NaN  15.453333        NaN        NaN         NaN   \n",
       "\n",
       "                                       sales_sum                             \\\n",
       "Quarter        Q2     Q3     Q4     Q5        Q1       Q2       Q3       Q4   \n",
       "CustomerID                                                                    \n",
       "12747.0       7.0   31.0   17.0   15.0   1426.61   301.70  1147.61   613.82   \n",
       "12748.0     772.0  632.0  315.0  668.0  14002.34  8160.35  5341.13  1987.78   \n",
       "12749.0      85.0   43.0    NaN    NaN   1335.65  1896.13   859.10      NaN   \n",
       "12820.0      14.0    NaN   11.0    NaN    554.11   217.77      NaN   170.46   \n",
       "12821.0       NaN    6.0    NaN    NaN       NaN      NaN    92.72      NaN   \n",
       "\n",
       "                     \n",
       "Quarter          Q5  \n",
       "CustomerID           \n",
       "12747.0      706.27  \n",
       "12748.0     4228.13  \n",
       "12749.0         NaN  \n",
       "12820.0         NaN  \n",
       "12821.0         NaN  "
      ]
     },
     "execution_count": 27,
     "metadata": {},
     "output_type": "execute_result"
    }
   ],
   "source": [
    "Customer_orders_wide = pd.pivot_table(customer_orders, values = ['sales_sum', 'sales_avg', 'sales_count'], columns = 'Quarter', index = 'CustomerID')\n",
    "Customer_orders_wide.head()"
   ]
  },
  {
   "cell_type": "code",
   "execution_count": 28,
   "id": "2c3600ac",
   "metadata": {},
   "outputs": [
    {
     "name": "stdout",
     "output_type": "stream",
     "text": [
      "            Q1_sales_avg  Q2_sales_avg  Q3_sales_avg  Q4_sales_avg  \\\n",
      "CustomerID                                                           \n",
      "12747.0        43.230606     43.100000     37.019677     36.107059   \n",
      "12748.0         6.341639     10.570402      8.451155      6.310413   \n",
      "12749.0        18.811972     22.307412     19.979070           NaN   \n",
      "12820.0        16.297353     15.555000           NaN     15.496364   \n",
      "12821.0              NaN           NaN     15.453333           NaN   \n",
      "\n",
      "            Q5_sales_avg  Q1_sales_count  Q2_sales_count  Q3_sales_count  \\\n",
      "CustomerID                                                                 \n",
      "12747.0        47.084667            33.0             7.0            31.0   \n",
      "12748.0         6.329536          2208.0           772.0           632.0   \n",
      "12749.0              NaN            71.0            85.0            43.0   \n",
      "12820.0              NaN            34.0            14.0             NaN   \n",
      "12821.0              NaN             NaN             NaN             6.0   \n",
      "\n",
      "            Q4_sales_count  Q5_sales_count  Q1_sales_sum  Q2_sales_sum  \\\n",
      "CustomerID                                                               \n",
      "12747.0               17.0            15.0       1426.61        301.70   \n",
      "12748.0              315.0           668.0      14002.34       8160.35   \n",
      "12749.0                NaN             NaN       1335.65       1896.13   \n",
      "12820.0               11.0             NaN        554.11        217.77   \n",
      "12821.0                NaN             NaN           NaN           NaN   \n",
      "\n",
      "            Q3_sales_sum  Q4_sales_sum  Q5_sales_sum  \n",
      "CustomerID                                            \n",
      "12747.0          1147.61        613.82        706.27  \n",
      "12748.0          5341.13       1987.78       4228.13  \n",
      "12749.0           859.10           NaN           NaN  \n",
      "12820.0              NaN        170.46           NaN  \n",
      "12821.0            92.72           NaN           NaN  \n"
     ]
    }
   ],
   "source": [
    "Customer_orders_wide.columns = ['Q1_sales_avg', 'Q2_sales_avg', 'Q3_sales_avg', 'Q4_sales_avg', 'Q5_sales_avg', \n",
    "                                'Q1_sales_count', 'Q2_sales_count', 'Q3_sales_count', 'Q4_sales_count', 'Q5_sales_count',\n",
    "                                'Q1_sales_sum', 'Q2_sales_sum', 'Q3_sales_sum', 'Q4_sales_sum', 'Q5_sales_sum']\n",
    "print(Customer_orders_wide.head())"
   ]
  },
  {
   "cell_type": "markdown",
   "id": "454ee1bd",
   "metadata": {},
   "source": [
    "Fill missing values with 0"
   ]
  },
  {
   "cell_type": "code",
   "execution_count": 29,
   "id": "20b4caf8",
   "metadata": {
    "scrolled": true
   },
   "outputs": [
    {
     "name": "stdout",
     "output_type": "stream",
     "text": [
      "            Q1_sales_avg  Q2_sales_avg  Q3_sales_avg  Q4_sales_avg  \\\n",
      "CustomerID                                                           \n",
      "12747.0        43.230606     43.100000     37.019677     36.107059   \n",
      "12748.0         6.341639     10.570402      8.451155      6.310413   \n",
      "12749.0        18.811972     22.307412     19.979070      0.000000   \n",
      "12820.0        16.297353     15.555000      0.000000     15.496364   \n",
      "12821.0         0.000000      0.000000     15.453333      0.000000   \n",
      "\n",
      "            Q5_sales_avg  Q1_sales_count  Q2_sales_count  Q3_sales_count  \\\n",
      "CustomerID                                                                 \n",
      "12747.0        47.084667            33.0             7.0            31.0   \n",
      "12748.0         6.329536          2208.0           772.0           632.0   \n",
      "12749.0         0.000000            71.0            85.0            43.0   \n",
      "12820.0         0.000000            34.0            14.0             0.0   \n",
      "12821.0         0.000000             0.0             0.0             6.0   \n",
      "\n",
      "            Q4_sales_count  Q5_sales_count  Q1_sales_sum  Q2_sales_sum  \\\n",
      "CustomerID                                                               \n",
      "12747.0               17.0            15.0       1426.61        301.70   \n",
      "12748.0              315.0           668.0      14002.34       8160.35   \n",
      "12749.0                0.0             0.0       1335.65       1896.13   \n",
      "12820.0               11.0             0.0        554.11        217.77   \n",
      "12821.0                0.0             0.0          0.00          0.00   \n",
      "\n",
      "            Q3_sales_sum  Q4_sales_sum  Q5_sales_sum  \n",
      "CustomerID                                            \n",
      "12747.0          1147.61        613.82        706.27  \n",
      "12748.0          5341.13       1987.78       4228.13  \n",
      "12749.0           859.10          0.00          0.00  \n",
      "12820.0             0.00        170.46          0.00  \n",
      "12821.0            92.72          0.00          0.00  \n"
     ]
    }
   ],
   "source": [
    "Customer_orders_wide = Customer_orders_wide.fillna(0)\n",
    "print(Customer_orders_wide.head())"
   ]
  },
  {
   "cell_type": "markdown",
   "id": "26dba23b",
   "metadata": {},
   "source": [
    "Import the needed libraries"
   ]
  },
  {
   "cell_type": "code",
   "execution_count": 30,
   "id": "2871b934",
   "metadata": {},
   "outputs": [],
   "source": [
    "from sklearn.ensemble import RandomForestRegressor\n",
    "from sklearn.model_selection import train_test_split\n",
    "from sklearn.metrics import mean_squared_error\n",
    "from sklearn.metrics import mean_absolute_error\n",
    "from sklearn.preprocessing import MinMaxScaler\n",
    "from sklearn.svm import SVR"
   ]
  },
  {
   "cell_type": "markdown",
   "id": "ac7b2152",
   "metadata": {},
   "source": [
    "Define the input and target variables"
   ]
  },
  {
   "cell_type": "code",
   "execution_count": 31,
   "id": "ef9fc60b",
   "metadata": {
    "scrolled": true
   },
   "outputs": [],
   "source": [
    "X = Customer_orders_wide[['Q2_sales_sum', 'Q3_sales_sum', 'Q4_sales_sum', 'Q5_sales_sum']]\n",
    "y = Customer_orders_wide['Q1_sales_sum']"
   ]
  },
  {
   "cell_type": "markdown",
   "id": "44f68b7f",
   "metadata": {},
   "source": [
    "Standardise the input variables"
   ]
  },
  {
   "cell_type": "code",
   "execution_count": 32,
   "id": "604a817c",
   "metadata": {},
   "outputs": [],
   "source": [
    "scaler = MinMaxScaler().fit(X)\n",
    "X = scaler.transform(X)"
   ]
  },
  {
   "cell_type": "markdown",
   "id": "0251a4de",
   "metadata": {},
   "source": [
    "Split data into train (80%) and test (20%)"
   ]
  },
  {
   "cell_type": "code",
   "execution_count": 36,
   "id": "ff782de9",
   "metadata": {},
   "outputs": [],
   "source": [
    "X_train, X_test, y_train, y_test = train_test_split(X, y, test_size = 0.20, random_state = None)"
   ]
  },
  {
   "cell_type": "markdown",
   "id": "acbb4de9",
   "metadata": {},
   "source": [
    "# Random Forest "
   ]
  },
  {
   "cell_type": "code",
   "execution_count": 37,
   "id": "2efd7ce6",
   "metadata": {
    "scrolled": false
   },
   "outputs": [
    {
     "name": "stdout",
     "output_type": "stream",
     "text": [
      "The random forest model RMSE(Root mean square error): 2354.5771289162976\n",
      "The random forest model MAE(Mean Absolute Error): 502.9935445524519\n"
     ]
    }
   ],
   "source": [
    "RF_md = RandomForestRegressor(n_estimators = 500).fit(X_train, y_train)\n",
    "\n",
    "RF_preds = RF_md.predict(X_test)\n",
    "\n",
    "print('The random forest model RMSE(Root mean square error):', mean_squared_error(y_test, RF_preds, squared = False))\n",
    "print('The random forest model MAE(Mean Absolute Error):', mean_absolute_error(y_test, RF_preds))\n"
   ]
  },
  {
   "cell_type": "markdown",
   "id": "c6f62a66",
   "metadata": {},
   "source": [
    "# svm"
   ]
  },
  {
   "cell_type": "code",
   "execution_count": 38,
   "id": "ed961a10",
   "metadata": {
    "scrolled": true
   },
   "outputs": [
    {
     "name": "stdout",
     "output_type": "stream",
     "text": [
      "The svm model RMSE(Root mean square error): 3454.4256594411036\n",
      "The svm model MAE(Mean Absolute Error): 628.0340262696977\n"
     ]
    }
   ],
   "source": [
    "SVM_md = SVR(kernel = 'linear').fit(X_train, y_train)\n",
    "\n",
    "SVM_preds = SVM_md.predict(X_test)\n",
    "\n",
    "print('The svm model RMSE(Root mean square error):', mean_squared_error(y_test, SVM_preds, squared = False))\n",
    "print('The svm model MAE(Mean Absolute Error):', mean_absolute_error(y_test, SVM_preds))"
   ]
  },
  {
   "cell_type": "markdown",
   "id": "da8f7d7e",
   "metadata": {},
   "source": [
    "## Conclusion"
   ]
  },
  {
   "cell_type": "markdown",
   "id": "2bfcfcd1",
   "metadata": {},
   "source": [
    "Based on the number of orders by customer ID with UK data, I predicted future sales using sales number, sales volume and sales average on a quarterly basis.<br>\n",
    "Root Mean Squared Error (RMSE)and Mean Absolute Error (MAE) are metrics used to evaluate a Regression Model. We can predict the test data by using the trained model. We can check the accuracy of predicted data by using MSE and RMSE metrics.<br>\n",
    "RandomForest provided better results than SVM that recorded lower RMS error and and the average difference between the forecast and the observed values was 437"
   ]
  },
  {
   "cell_type": "markdown",
   "id": "7f9ea55a",
   "metadata": {},
   "source": [
    "## Reference"
   ]
  },
  {
   "cell_type": "markdown",
   "id": "729588a5",
   "metadata": {},
   "source": [
    "pandas documentation(2023). pandas.to_datetime. Available at:https://pandas.pydata.org/docs/reference/api/pandas.to_datetime.html (Accessed: 6 Apr 2023)."
   ]
  },
  {
   "cell_type": "markdown",
   "id": "4cc2f0ec",
   "metadata": {},
   "source": [
    "Malli(2023).Pandas groupby() and count() with Examples. Available at:https://sparkbyexamples.com/pandas/pandas-groupby-count-examples (Accessed: 6 Apr 2023)."
   ]
  },
  {
   "cell_type": "markdown",
   "id": "a1c067af",
   "metadata": {},
   "source": [
    "Ayşenur Özen(2021). E-Commerce Data: Exploratory Data Analysis(EDA). Available at: https://medium.com/analytics-vidhya/e-commerce-data-exploratory-data-analysis-eda-99b17cf53765 (Accessed: 6 Apr 2023)."
   ]
  },
  {
   "cell_type": "markdown",
   "id": "a1ddd166",
   "metadata": {},
   "source": [
    "DataTechNotes(2022).Regression Example with Linear SVR Method in Python. Available at: https://www.datatechnotes.com/2020/07/regression-example-with-linear-svr.html (Accessed: 7 Apr 2023)."
   ]
  },
  {
   "cell_type": "code",
   "execution_count": null,
   "id": "8b382e49",
   "metadata": {},
   "outputs": [],
   "source": []
  }
 ],
 "metadata": {
  "kernelspec": {
   "display_name": "Python 3 (ipykernel)",
   "language": "python",
   "name": "python3"
  },
  "language_info": {
   "codemirror_mode": {
    "name": "ipython",
    "version": 3
   },
   "file_extension": ".py",
   "mimetype": "text/x-python",
   "name": "python",
   "nbconvert_exporter": "python",
   "pygments_lexer": "ipython3",
   "version": "3.10.9"
  }
 },
 "nbformat": 4,
 "nbformat_minor": 5
}
